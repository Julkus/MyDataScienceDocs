{
 "cells": [
  {
   "cell_type": "code",
   "execution_count": 1,
   "id": "0fda72ec",
   "metadata": {},
   "outputs": [
    {
     "data": {
      "text/plain": [
       "a    Austria\n",
       "b    Belgium\n",
       "c     Canada\n",
       "d    Denmark\n",
       "e    England\n",
       "e    Estonia\n",
       "dtype: object"
      ]
     },
     "execution_count": 1,
     "metadata": {},
     "output_type": "execute_result"
    }
   ],
   "source": [
    "import pandas as pd\n",
    "index = ['a', 'b', 'c', 'd', 'e', 'e']\n",
    "values = ['Austria', 'Belgium', 'Canada', 'Denmark', 'England', 'Estonia']\n",
    "s = pd.Series (values, index)\n",
    "s"
   ]
  },
  {
   "cell_type": "markdown",
   "id": "d8c985da",
   "metadata": {},
   "source": [
    "# Operator []\n",
    "\n",
    "### getting value by position"
   ]
  },
  {
   "cell_type": "code",
   "execution_count": 2,
   "id": "d186073e",
   "metadata": {},
   "outputs": [
    {
     "data": {
      "text/plain": [
       "'Belgium'"
      ]
     },
     "execution_count": 2,
     "metadata": {},
     "output_type": "execute_result"
    }
   ],
   "source": [
    "s[1]"
   ]
  },
  {
   "cell_type": "markdown",
   "id": "2e8d62b0",
   "metadata": {},
   "source": [
    "### getting value by index"
   ]
  },
  {
   "cell_type": "code",
   "execution_count": 3,
   "id": "1f9e03ff",
   "metadata": {},
   "outputs": [
    {
     "data": {
      "text/plain": [
       "'Belgium'"
      ]
     },
     "execution_count": 3,
     "metadata": {},
     "output_type": "execute_result"
    }
   ],
   "source": [
    "s['b']"
   ]
  },
  {
   "cell_type": "markdown",
   "id": "92a033b1",
   "metadata": {},
   "source": [
    "### getting multiple values"
   ]
  },
  {
   "cell_type": "code",
   "execution_count": 4,
   "id": "201fcbe8",
   "metadata": {},
   "outputs": [
    {
     "data": {
      "text/plain": [
       "e    England\n",
       "e    Estonia\n",
       "dtype: object"
      ]
     },
     "execution_count": 4,
     "metadata": {},
     "output_type": "execute_result"
    }
   ],
   "source": [
    "s['e']"
   ]
  },
  {
   "cell_type": "markdown",
   "id": "8cb77a98",
   "metadata": {},
   "source": [
    "### getting non existing value"
   ]
  },
  {
   "cell_type": "code",
   "execution_count": 8,
   "id": "c695b2a6",
   "metadata": {},
   "outputs": [],
   "source": [
    "# s['f'] error"
   ]
  },
  {
   "cell_type": "markdown",
   "id": "7bd4093f",
   "metadata": {},
   "source": [
    "# Method get()"
   ]
  },
  {
   "cell_type": "markdown",
   "id": "510f7fa2",
   "metadata": {},
   "source": [
    "### getting value by position"
   ]
  },
  {
   "cell_type": "code",
   "execution_count": 9,
   "id": "549f2e50",
   "metadata": {},
   "outputs": [
    {
     "data": {
      "text/plain": [
       "'Belgium'"
      ]
     },
     "execution_count": 9,
     "metadata": {},
     "output_type": "execute_result"
    }
   ],
   "source": [
    "s.get(1)"
   ]
  },
  {
   "cell_type": "markdown",
   "id": "fac062d2",
   "metadata": {},
   "source": [
    "### getting value by index"
   ]
  },
  {
   "cell_type": "code",
   "execution_count": 10,
   "id": "aa7420b6",
   "metadata": {},
   "outputs": [
    {
     "data": {
      "text/plain": [
       "'Belgium'"
      ]
     },
     "execution_count": 10,
     "metadata": {},
     "output_type": "execute_result"
    }
   ],
   "source": [
    "s.get('b')"
   ]
  },
  {
   "cell_type": "markdown",
   "id": "b0193d1b",
   "metadata": {},
   "source": [
    "### getting multiple values"
   ]
  },
  {
   "cell_type": "code",
   "execution_count": 11,
   "id": "328396c4",
   "metadata": {},
   "outputs": [
    {
     "data": {
      "text/plain": [
       "e    England\n",
       "e    Estonia\n",
       "dtype: object"
      ]
     },
     "execution_count": 11,
     "metadata": {},
     "output_type": "execute_result"
    }
   ],
   "source": [
    "s.get('e')"
   ]
  },
  {
   "cell_type": "markdown",
   "id": "1f51d16e",
   "metadata": {},
   "source": [
    "### getting non existing value"
   ]
  },
  {
   "cell_type": "code",
   "execution_count": 13,
   "id": "ca68f316",
   "metadata": {},
   "outputs": [],
   "source": [
    "s.get('f')"
   ]
  },
  {
   "cell_type": "markdown",
   "id": "abeec753",
   "metadata": {},
   "source": [
    "# Method at[] - by index"
   ]
  },
  {
   "cell_type": "markdown",
   "id": "8b5b537d",
   "metadata": {},
   "source": [
    "### getting value by position"
   ]
  },
  {
   "cell_type": "code",
   "execution_count": 15,
   "id": "2c0d4475",
   "metadata": {},
   "outputs": [],
   "source": [
    "# s.at[1] error"
   ]
  },
  {
   "cell_type": "markdown",
   "id": "5657a93a",
   "metadata": {},
   "source": [
    "### getting value by index"
   ]
  },
  {
   "cell_type": "code",
   "execution_count": 16,
   "id": "d9c608ec",
   "metadata": {},
   "outputs": [
    {
     "data": {
      "text/plain": [
       "'Belgium'"
      ]
     },
     "execution_count": 16,
     "metadata": {},
     "output_type": "execute_result"
    }
   ],
   "source": [
    "s.at['b']"
   ]
  },
  {
   "cell_type": "markdown",
   "id": "7ab81037",
   "metadata": {},
   "source": [
    "### getting multiple values"
   ]
  },
  {
   "cell_type": "code",
   "execution_count": 17,
   "id": "b3c3bb3b",
   "metadata": {},
   "outputs": [
    {
     "data": {
      "text/plain": [
       "e    England\n",
       "e    Estonia\n",
       "dtype: object"
      ]
     },
     "execution_count": 17,
     "metadata": {},
     "output_type": "execute_result"
    }
   ],
   "source": [
    "s.at['e']"
   ]
  },
  {
   "cell_type": "markdown",
   "id": "ed5e7271",
   "metadata": {},
   "source": [
    "### getting non existing value"
   ]
  },
  {
   "cell_type": "code",
   "execution_count": 19,
   "id": "0eb3e851",
   "metadata": {},
   "outputs": [],
   "source": [
    "#s.at['f'] error"
   ]
  },
  {
   "cell_type": "markdown",
   "id": "248c5c01",
   "metadata": {},
   "source": [
    "# Method iat[] - by position in index"
   ]
  },
  {
   "cell_type": "markdown",
   "id": "ed571716",
   "metadata": {},
   "source": [
    "### getting value by position"
   ]
  },
  {
   "cell_type": "code",
   "execution_count": 20,
   "id": "00b653c0",
   "metadata": {},
   "outputs": [
    {
     "data": {
      "text/plain": [
       "'Belgium'"
      ]
     },
     "execution_count": 20,
     "metadata": {},
     "output_type": "execute_result"
    }
   ],
   "source": [
    "s.iat[1]"
   ]
  },
  {
   "cell_type": "markdown",
   "id": "e59fd373",
   "metadata": {},
   "source": [
    "### getting value by index"
   ]
  },
  {
   "cell_type": "code",
   "execution_count": 22,
   "id": "a2b1fb22",
   "metadata": {},
   "outputs": [],
   "source": [
    "#s.iat['b'] error"
   ]
  },
  {
   "cell_type": "markdown",
   "id": "be6e628a",
   "metadata": {},
   "source": [
    "### getting multiple values"
   ]
  },
  {
   "cell_type": "code",
   "execution_count": 26,
   "id": "04a3c766",
   "metadata": {},
   "outputs": [],
   "source": [
    "#s.ait[[0,1]] error"
   ]
  },
  {
   "cell_type": "markdown",
   "id": "e4296bb0",
   "metadata": {},
   "source": [
    "### getting non existing value"
   ]
  },
  {
   "cell_type": "code",
   "execution_count": 28,
   "id": "98d21da9",
   "metadata": {},
   "outputs": [],
   "source": [
    "#s.iat[99] error"
   ]
  },
  {
   "cell_type": "markdown",
   "id": "a03c322a",
   "metadata": {},
   "source": [
    "# Method loc[] - by index"
   ]
  },
  {
   "cell_type": "markdown",
   "id": "4b6879e7",
   "metadata": {},
   "source": [
    "### getting value by position"
   ]
  },
  {
   "cell_type": "code",
   "execution_count": 30,
   "id": "4dd01e8a",
   "metadata": {},
   "outputs": [],
   "source": [
    "#s.loc[1] error"
   ]
  },
  {
   "cell_type": "markdown",
   "id": "064ed0f5",
   "metadata": {},
   "source": [
    "### getting value by index"
   ]
  },
  {
   "cell_type": "code",
   "execution_count": 31,
   "id": "5f86d0ad",
   "metadata": {},
   "outputs": [
    {
     "data": {
      "text/plain": [
       "'Belgium'"
      ]
     },
     "execution_count": 31,
     "metadata": {},
     "output_type": "execute_result"
    }
   ],
   "source": [
    "s.loc['b']"
   ]
  },
  {
   "cell_type": "markdown",
   "id": "0bf4ab1f",
   "metadata": {},
   "source": [
    "### getting multiple values"
   ]
  },
  {
   "cell_type": "code",
   "execution_count": 33,
   "id": "1a1d9134",
   "metadata": {},
   "outputs": [
    {
     "data": {
      "text/plain": [
       "e    England\n",
       "e    Estonia\n",
       "dtype: object"
      ]
     },
     "execution_count": 33,
     "metadata": {},
     "output_type": "execute_result"
    }
   ],
   "source": [
    "s.loc['e'] #main difference between at[] and loc[]!"
   ]
  },
  {
   "cell_type": "markdown",
   "id": "afb3db5e",
   "metadata": {},
   "source": [
    "### getting non existing value"
   ]
  },
  {
   "cell_type": "code",
   "execution_count": 35,
   "id": "d2faf7fe",
   "metadata": {},
   "outputs": [],
   "source": [
    "#s.loc['f'] error"
   ]
  },
  {
   "cell_type": "markdown",
   "id": "4b2aeb15",
   "metadata": {},
   "source": [
    "# Method iloc[] - by position"
   ]
  },
  {
   "cell_type": "markdown",
   "id": "d8465cc2",
   "metadata": {},
   "source": [
    "### getting value by position"
   ]
  },
  {
   "cell_type": "code",
   "execution_count": 36,
   "id": "1be5a712",
   "metadata": {},
   "outputs": [
    {
     "data": {
      "text/plain": [
       "'Belgium'"
      ]
     },
     "execution_count": 36,
     "metadata": {},
     "output_type": "execute_result"
    }
   ],
   "source": [
    "s.iloc[1]"
   ]
  },
  {
   "cell_type": "markdown",
   "id": "dba50bdb",
   "metadata": {},
   "source": [
    "### getting value by index"
   ]
  },
  {
   "cell_type": "code",
   "execution_count": 38,
   "id": "344e4bf4",
   "metadata": {},
   "outputs": [],
   "source": [
    "#s.iloc['b'] error"
   ]
  },
  {
   "cell_type": "markdown",
   "id": "3ccce0ae",
   "metadata": {},
   "source": [
    "### getting multiple values"
   ]
  },
  {
   "cell_type": "code",
   "execution_count": 40,
   "id": "128285fe",
   "metadata": {},
   "outputs": [
    {
     "data": {
      "text/plain": [
       "a    Austria\n",
       "b    Belgium\n",
       "dtype: object"
      ]
     },
     "execution_count": 40,
     "metadata": {},
     "output_type": "execute_result"
    }
   ],
   "source": [
    "s.iloc[[0,1]]"
   ]
  },
  {
   "cell_type": "markdown",
   "id": "3666cbcd",
   "metadata": {},
   "source": [
    "### getting non existing value"
   ]
  },
  {
   "cell_type": "code",
   "execution_count": 42,
   "id": "60f5fefd",
   "metadata": {},
   "outputs": [],
   "source": [
    "#s.iloc[99] error"
   ]
  }
 ],
 "metadata": {
  "kernelspec": {
   "display_name": "Python 3 (ipykernel)",
   "language": "python",
   "name": "python3"
  },
  "language_info": {
   "codemirror_mode": {
    "name": "ipython",
    "version": 3
   },
   "file_extension": ".py",
   "mimetype": "text/x-python",
   "name": "python",
   "nbconvert_exporter": "python",
   "pygments_lexer": "ipython3",
   "version": "3.10.4"
  }
 },
 "nbformat": 4,
 "nbformat_minor": 5
}
