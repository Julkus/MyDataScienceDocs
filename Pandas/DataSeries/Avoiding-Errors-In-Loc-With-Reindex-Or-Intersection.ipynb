{
 "cells": [
  {
   "cell_type": "code",
   "execution_count": 2,
   "id": "070bf490",
   "metadata": {},
   "outputs": [
    {
     "data": {
      "text/plain": [
       "a     Austria\n",
       "b     Belgium\n",
       "c      Canada\n",
       "d     Denmark\n",
       "e1    England\n",
       "e2    Estonia\n",
       "dtype: object"
      ]
     },
     "execution_count": 2,
     "metadata": {},
     "output_type": "execute_result"
    }
   ],
   "source": [
    "import pandas as pd\n",
    "index = ['a', 'b', 'c', 'd', 'e1', 'e2']\n",
    "values = ['Austria', 'Belgium', 'Canada', 'Denmark', 'England', 'Estonia']\n",
    "s = pd.Series (values, index)\n",
    "s"
   ]
  },
  {
   "cell_type": "code",
   "execution_count": 3,
   "id": "f8a97efb",
   "metadata": {},
   "outputs": [],
   "source": [
    "searchList = ['a','b']"
   ]
  },
  {
   "cell_type": "code",
   "execution_count": 4,
   "id": "086c7c66",
   "metadata": {},
   "outputs": [
    {
     "data": {
      "text/plain": [
       "a    Austria\n",
       "b    Belgium\n",
       "dtype: object"
      ]
     },
     "execution_count": 4,
     "metadata": {},
     "output_type": "execute_result"
    }
   ],
   "source": [
    "s.loc[searchList]"
   ]
  },
  {
   "cell_type": "code",
   "execution_count": 5,
   "id": "ee87fd01",
   "metadata": {},
   "outputs": [],
   "source": [
    "searchListNotFound = ['a', 'b', 'f']"
   ]
  },
  {
   "cell_type": "code",
   "execution_count": 24,
   "id": "94a1605e",
   "metadata": {},
   "outputs": [],
   "source": [
    "#s.loc[searchListNotFound] error"
   ]
  },
  {
   "cell_type": "code",
   "execution_count": 8,
   "id": "fdae6996",
   "metadata": {},
   "outputs": [
    {
     "data": {
      "text/plain": [
       "a    Austria\n",
       "b    Belgium\n",
       "f        NaN\n",
       "dtype: object"
      ]
     },
     "execution_count": 8,
     "metadata": {},
     "output_type": "execute_result"
    }
   ],
   "source": [
    "s.reindex(searchListNotFound) #ma zwrócić nową serię, znalezione elementy zostaną skopiowane i zwrócone, \n",
    "                            #nieznalezione zostaną dodane do wyniku z wartością NaN"
   ]
  },
  {
   "cell_type": "code",
   "execution_count": 9,
   "id": "22b20c14",
   "metadata": {},
   "outputs": [
    {
     "data": {
      "text/plain": [
       "Index(['a', 'b', 'c', 'd', 'e1', 'e2'], dtype='object')"
      ]
     },
     "execution_count": 9,
     "metadata": {},
     "output_type": "execute_result"
    }
   ],
   "source": [
    "s.index"
   ]
  },
  {
   "cell_type": "code",
   "execution_count": 11,
   "id": "f7d178cf",
   "metadata": {},
   "outputs": [
    {
     "data": {
      "text/plain": [
       "Index(['a', 'b'], dtype='object')"
      ]
     },
     "execution_count": 11,
     "metadata": {},
     "output_type": "execute_result"
    }
   ],
   "source": [
    "s.index.intersection(searchListNotFound) #zwraca listę elementów, które występują i w tej oryginalnej na rzecz której \n",
    "                            #wywołujemy metodę i w tej, którą przekazujemy jako argument\n",
    "                            #wartość wspólna to 'a' i 'b'"
   ]
  },
  {
   "cell_type": "code",
   "execution_count": 14,
   "id": "c88f847d",
   "metadata": {},
   "outputs": [
    {
     "data": {
      "text/plain": [
       "a    Austria\n",
       "b    Belgium\n",
       "dtype: object"
      ]
     },
     "execution_count": 14,
     "metadata": {},
     "output_type": "execute_result"
    }
   ],
   "source": [
    "s.loc[s.index.intersection(searchListNotFound)] #mając info o części wspólnej można wyświetlić tylko te elementy, które \n",
    "                                        #mają wartość indeksu znajdującą się na zwróconej tutaj liście\n",
    "                                        #'f' zostało pominięte"
   ]
  },
  {
   "cell_type": "markdown",
   "id": "46ed86be",
   "metadata": {},
   "source": [
    "### Metody te wymagają żeby oryginalna lista nie posiadała duplikatów"
   ]
  },
  {
   "cell_type": "code",
   "execution_count": 15,
   "id": "54a2306d",
   "metadata": {},
   "outputs": [
    {
     "data": {
      "text/plain": [
       "a    Austria\n",
       "b    Belgium\n",
       "c     Canada\n",
       "d    Denmark\n",
       "e    England\n",
       "e    Estonia\n",
       "dtype: object"
      ]
     },
     "execution_count": 15,
     "metadata": {},
     "output_type": "execute_result"
    }
   ],
   "source": [
    "index = ['a', 'b', 'c', 'd', 'e', 'e']\n",
    "values = ['Austria', 'Belgium', 'Canada', 'Denmark', 'England', 'Estonia']\n",
    "s = pd.Series (values, index)\n",
    "s"
   ]
  },
  {
   "cell_type": "code",
   "execution_count": 19,
   "id": "bd3afbfa",
   "metadata": {},
   "outputs": [],
   "source": [
    "#s.reindex(searchListNotFound) error"
   ]
  },
  {
   "cell_type": "code",
   "execution_count": 20,
   "id": "6300551d",
   "metadata": {},
   "outputs": [
    {
     "data": {
      "text/plain": [
       "a    Austria\n",
       "b    Belgium\n",
       "dtype: object"
      ]
     },
     "execution_count": 20,
     "metadata": {},
     "output_type": "execute_result"
    }
   ],
   "source": [
    "s.loc[s.index.intersection(searchListNotFound)]"
   ]
  },
  {
   "cell_type": "code",
   "execution_count": 21,
   "id": "aa317d88",
   "metadata": {},
   "outputs": [],
   "source": [
    "searchListNotFound += 'e'"
   ]
  },
  {
   "cell_type": "code",
   "execution_count": 22,
   "id": "361fa553",
   "metadata": {},
   "outputs": [
    {
     "data": {
      "text/plain": [
       "['a', 'b', 'f', 'e']"
      ]
     },
     "execution_count": 22,
     "metadata": {},
     "output_type": "execute_result"
    }
   ],
   "source": [
    "searchListNotFound"
   ]
  },
  {
   "cell_type": "code",
   "execution_count": 23,
   "id": "8e845a8c",
   "metadata": {},
   "outputs": [
    {
     "data": {
      "text/plain": [
       "a    Austria\n",
       "b    Belgium\n",
       "e    England\n",
       "e    Estonia\n",
       "dtype: object"
      ]
     },
     "execution_count": 23,
     "metadata": {},
     "output_type": "execute_result"
    }
   ],
   "source": [
    "s.loc[s.index.intersection(searchListNotFound)]"
   ]
  }
 ],
 "metadata": {
  "kernelspec": {
   "display_name": "Python 3 (ipykernel)",
   "language": "python",
   "name": "python3"
  },
  "language_info": {
   "codemirror_mode": {
    "name": "ipython",
    "version": 3
   },
   "file_extension": ".py",
   "mimetype": "text/x-python",
   "name": "python",
   "nbconvert_exporter": "python",
   "pygments_lexer": "ipython3",
   "version": "3.10.4"
  }
 },
 "nbformat": 4,
 "nbformat_minor": 5
}
