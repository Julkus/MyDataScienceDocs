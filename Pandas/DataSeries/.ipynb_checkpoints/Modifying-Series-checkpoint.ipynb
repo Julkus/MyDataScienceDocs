{
 "cells": [
  {
   "cell_type": "code",
   "execution_count": 1,
   "id": "9cfe1434",
   "metadata": {},
   "outputs": [],
   "source": [
    "import pandas as pd\n",
    "import numpy as np\n",
    "import matplotlib.pyplot as plt\n",
    "import math as math"
   ]
  },
  {
   "cell_type": "code",
   "execution_count": 2,
   "id": "3f71a323",
   "metadata": {},
   "outputs": [],
   "source": [
    "pok = pd.read_csv(\"./course-files/pokemon.csv\",usecols=['Name', 'Attack'], index_col='Name').squeeze('columns')"
   ]
  },
  {
   "cell_type": "code",
   "execution_count": 3,
   "id": "dcbad5f9",
   "metadata": {},
   "outputs": [
    {
     "data": {
      "text/plain": [
       "Name\n",
       "Bulbasaur                 49\n",
       "Ivysaur                   62\n",
       "Venusaur                  82\n",
       "VenusaurMega Venusaur    100\n",
       "Charmander                52\n",
       "Name: Attack, dtype: int64"
      ]
     },
     "execution_count": 3,
     "metadata": {},
     "output_type": "execute_result"
    }
   ],
   "source": [
    "pok.head()"
   ]
  },
  {
   "cell_type": "code",
   "execution_count": 5,
   "id": "12bbb3f3",
   "metadata": {},
   "outputs": [
    {
     "data": {
      "text/plain": [
       "Name\n",
       "Bulbasaur                 4900\n",
       "Ivysaur                   6200\n",
       "Venusaur                  8200\n",
       "VenusaurMega Venusaur    10000\n",
       "Charmander                5200\n",
       "                         ...  \n",
       "Diancie                  10000\n",
       "DiancieMega Diancie      16000\n",
       "HoopaHoopa Confined      11000\n",
       "HoopaHoopa Unbound       16000\n",
       "Volcanion                11000\n",
       "Name: Attack, Length: 800, dtype: int64"
      ]
     },
     "execution_count": 5,
     "metadata": {},
     "output_type": "execute_result"
    }
   ],
   "source": [
    "pok100 = pok * 100\n",
    "pok100"
   ]
  },
  {
   "cell_type": "code",
   "execution_count": 6,
   "id": "d57550be",
   "metadata": {},
   "outputs": [
    {
     "data": {
      "text/plain": [
       "Name\n",
       "Bulbasaur                 4900\n",
       "Ivysaur                   6200\n",
       "Venusaur                  8200\n",
       "VenusaurMega Venusaur    10000\n",
       "Charmander                5200\n",
       "Name: Attack, dtype: int64"
      ]
     },
     "execution_count": 6,
     "metadata": {},
     "output_type": "execute_result"
    }
   ],
   "source": [
    "pok100.head()"
   ]
  },
  {
   "cell_type": "code",
   "execution_count": 7,
   "id": "ff4c827f",
   "metadata": {},
   "outputs": [],
   "source": [
    "pok = pd.read_csv(\"./course-files/pokemon.csv\",usecols=['Name', 'Type 1'], index_col='Name').squeeze('columns')"
   ]
  },
  {
   "cell_type": "code",
   "execution_count": 8,
   "id": "bc71b522",
   "metadata": {},
   "outputs": [
    {
     "data": {
      "text/plain": [
       "Name\n",
       "Bulbasaur                Grass\n",
       "Ivysaur                  Grass\n",
       "Venusaur                 Grass\n",
       "VenusaurMega Venusaur    Grass\n",
       "Charmander                Fire\n",
       "Name: Type 1, dtype: object"
      ]
     },
     "execution_count": 8,
     "metadata": {},
     "output_type": "execute_result"
    }
   ],
   "source": [
    "pok.head()"
   ]
  },
  {
   "cell_type": "code",
   "execution_count": 11,
   "id": "618c61db",
   "metadata": {},
   "outputs": [
    {
     "data": {
      "text/plain": [
       "Name\n",
       "Bulbasaur                GRASS\n",
       "Ivysaur                  GRASS\n",
       "Venusaur                 GRASS\n",
       "VenusaurMega Venusaur    GRASS\n",
       "Charmander                FIRE\n",
       "Name: Type 1, dtype: object"
      ]
     },
     "execution_count": 11,
     "metadata": {},
     "output_type": "execute_result"
    }
   ],
   "source": [
    "pokUpper = pok.str.upper()\n",
    "pokUpper.head()"
   ]
  },
  {
   "cell_type": "code",
   "execution_count": 12,
   "id": "07e74394",
   "metadata": {},
   "outputs": [
    {
     "data": {
      "text/plain": [
       "Name\n",
       "Bulbasaur                  TYPE:GRASS\n",
       "Ivysaur                    TYPE:GRASS\n",
       "Venusaur                   TYPE:GRASS\n",
       "VenusaurMega Venusaur      TYPE:GRASS\n",
       "Charmander                  TYPE:FIRE\n",
       "                             ...     \n",
       "Diancie                     TYPE:ROCK\n",
       "DiancieMega Diancie         TYPE:ROCK\n",
       "HoopaHoopa Confined      TYPE:PSYCHIC\n",
       "HoopaHoopa Unbound       TYPE:PSYCHIC\n",
       "Volcanion                   TYPE:FIRE\n",
       "Name: Type 1, Length: 800, dtype: object"
      ]
     },
     "execution_count": 12,
     "metadata": {},
     "output_type": "execute_result"
    }
   ],
   "source": [
    "'TYPE:' +pok.str.upper()"
   ]
  },
  {
   "cell_type": "code",
   "execution_count": 13,
   "id": "fa60441f",
   "metadata": {},
   "outputs": [
    {
     "data": {
      "text/plain": [
       "Name\n",
       "Bulbasaur                TYPE:GRASS\n",
       "Ivysaur                  TYPE:GRASS\n",
       "Venusaur                 TYPE:GRASS\n",
       "VenusaurMega Venusaur    TYPE:GRASS\n",
       "Charmander                TYPE:FIRE\n",
       "Name: Type 1, dtype: object"
      ]
     },
     "execution_count": 13,
     "metadata": {},
     "output_type": "execute_result"
    }
   ],
   "source": [
    "pokWithType = 'TYPE:' +pok.str.upper()\n",
    "pokWithType.head()"
   ]
  },
  {
   "cell_type": "code",
   "execution_count": 14,
   "id": "0372b0b4",
   "metadata": {},
   "outputs": [
    {
     "data": {
      "text/plain": [
       "Name\n",
       "Bulbasaur                Grass\n",
       "Ivysaur                  Grass\n",
       "Venusaur                 Grass\n",
       "VenusaurMega Venusaur    Grass\n",
       "Charmander                Fire\n",
       "Name: Type 1, dtype: object"
      ]
     },
     "execution_count": 14,
     "metadata": {},
     "output_type": "execute_result"
    }
   ],
   "source": [
    "pok.head()"
   ]
  },
  {
   "cell_type": "code",
   "execution_count": 15,
   "id": "25a0fa22",
   "metadata": {},
   "outputs": [
    {
     "data": {
      "text/plain": [
       "Water       112\n",
       "Normal       98\n",
       "Grass        70\n",
       "Bug          69\n",
       "Psychic      57\n",
       "Fire         52\n",
       "Electric     44\n",
       "Rock         44\n",
       "Dragon       32\n",
       "Ground       32\n",
       "Ghost        32\n",
       "Dark         31\n",
       "Poison       28\n",
       "Steel        27\n",
       "Fighting     27\n",
       "Ice          24\n",
       "Fairy        17\n",
       "Flying        4\n",
       "Name: Type 1, dtype: int64"
      ]
     },
     "execution_count": 15,
     "metadata": {},
     "output_type": "execute_result"
    }
   ],
   "source": [
    "pok.value_counts()"
   ]
  },
  {
   "cell_type": "code",
   "execution_count": 16,
   "id": "251733e7",
   "metadata": {},
   "outputs": [],
   "source": [
    "def ReplaceType(oldType):\n",
    "    if oldType == 'Grass' or oldType == 'Ground':\n",
    "        return 'Nature'\n",
    "    else:\n",
    "        return oldType"
   ]
  },
  {
   "cell_type": "code",
   "execution_count": 17,
   "id": "bab02c2c",
   "metadata": {},
   "outputs": [
    {
     "data": {
      "text/plain": [
       "'Fire'"
      ]
     },
     "execution_count": 17,
     "metadata": {},
     "output_type": "execute_result"
    }
   ],
   "source": [
    "ReplaceType('Fire')"
   ]
  },
  {
   "cell_type": "code",
   "execution_count": 18,
   "id": "7ee133d4",
   "metadata": {},
   "outputs": [
    {
     "data": {
      "text/plain": [
       "'Nature'"
      ]
     },
     "execution_count": 18,
     "metadata": {},
     "output_type": "execute_result"
    }
   ],
   "source": [
    "ReplaceType('Grass')"
   ]
  },
  {
   "cell_type": "code",
   "execution_count": 20,
   "id": "e2677a15",
   "metadata": {},
   "outputs": [
    {
     "data": {
      "text/plain": [
       "Name\n",
       "Bulbasaur                 Nature\n",
       "Ivysaur                   Nature\n",
       "Venusaur                  Nature\n",
       "VenusaurMega Venusaur     Nature\n",
       "Charmander                  Fire\n",
       "                          ...   \n",
       "Diancie                     Rock\n",
       "DiancieMega Diancie         Rock\n",
       "HoopaHoopa Confined      Psychic\n",
       "HoopaHoopa Unbound       Psychic\n",
       "Volcanion                   Fire\n",
       "Name: Type 1, Length: 800, dtype: object"
      ]
     },
     "execution_count": 20,
     "metadata": {},
     "output_type": "execute_result"
    }
   ],
   "source": [
    "pok.apply(ReplaceType)  #do zaaplikowania jakiejś funkcji dla każdego elementu w serii wykorzystujemy specjlną metodę apply\n",
    "                        #argumentem jest nazwa funkcji, którą należy wywołać dla każdego elementu w serii\n",
    "                        #też zwraca obiekt serii, można przypisać do zmiennej"
   ]
  },
  {
   "cell_type": "code",
   "execution_count": 21,
   "id": "5ec49a1e",
   "metadata": {},
   "outputs": [],
   "source": [
    "pokNature = pok.apply(ReplaceType)"
   ]
  },
  {
   "cell_type": "code",
   "execution_count": 22,
   "id": "05d829e3",
   "metadata": {},
   "outputs": [
    {
     "data": {
      "text/plain": [
       "Name\n",
       "Bulbasaur                Nature\n",
       "Ivysaur                  Nature\n",
       "Venusaur                 Nature\n",
       "VenusaurMega Venusaur    Nature\n",
       "Charmander                 Fire\n",
       "Name: Type 1, dtype: object"
      ]
     },
     "execution_count": 22,
     "metadata": {},
     "output_type": "execute_result"
    }
   ],
   "source": [
    "pokNature.head()"
   ]
  },
  {
   "cell_type": "code",
   "execution_count": 23,
   "id": "7d414a1f",
   "metadata": {},
   "outputs": [
    {
     "data": {
      "text/plain": [
       "Water       112\n",
       "Nature      102\n",
       "Normal       98\n",
       "Bug          69\n",
       "Psychic      57\n",
       "Fire         52\n",
       "Electric     44\n",
       "Rock         44\n",
       "Dragon       32\n",
       "Ghost        32\n",
       "Dark         31\n",
       "Poison       28\n",
       "Steel        27\n",
       "Fighting     27\n",
       "Ice          24\n",
       "Fairy        17\n",
       "Flying        4\n",
       "Name: Type 1, dtype: int64"
      ]
     },
     "execution_count": 23,
     "metadata": {},
     "output_type": "execute_result"
    }
   ],
   "source": [
    "pokNature.value_counts()"
   ]
  },
  {
   "cell_type": "code",
   "execution_count": 25,
   "id": "45aeed0f",
   "metadata": {},
   "outputs": [
    {
     "data": {
      "text/plain": [
       "Name\n",
       "Bulbasaur                  GRASS\n",
       "Ivysaur                    GRASS\n",
       "Venusaur                   GRASS\n",
       "VenusaurMega Venusaur      GRASS\n",
       "Charmander                  FIRE\n",
       "                          ...   \n",
       "Diancie                     ROCK\n",
       "DiancieMega Diancie         ROCK\n",
       "HoopaHoopa Confined      PSYCHIC\n",
       "HoopaHoopa Unbound       PSYCHIC\n",
       "Volcanion                   FIRE\n",
       "Name: Type 1, Length: 800, dtype: object"
      ]
     },
     "execution_count": 25,
     "metadata": {},
     "output_type": "execute_result"
    }
   ],
   "source": [
    "pok.apply(lambda aText: aText.upper()) #funkcja anonimowa, bez deklarowania na zewnątrz"
   ]
  },
  {
   "cell_type": "code",
   "execution_count": 26,
   "id": "e07cc2d4",
   "metadata": {},
   "outputs": [
    {
     "data": {
      "text/plain": [
       "Name\n",
       "Bulbasaur                GRASS\n",
       "Ivysaur                  GRASS\n",
       "Venusaur                 GRASS\n",
       "VenusaurMega Venusaur    GRASS\n",
       "Charmander                FIRE\n",
       "Name: Type 1, dtype: object"
      ]
     },
     "execution_count": 26,
     "metadata": {},
     "output_type": "execute_result"
    }
   ],
   "source": [
    "pokLambda = pok.apply(lambda aText: aText.upper())\n",
    "pokLambda.head()"
   ]
  }
 ],
 "metadata": {
  "kernelspec": {
   "display_name": "Python 3 (ipykernel)",
   "language": "python",
   "name": "python3"
  },
  "language_info": {
   "codemirror_mode": {
    "name": "ipython",
    "version": 3
   },
   "file_extension": ".py",
   "mimetype": "text/x-python",
   "name": "python",
   "nbconvert_exporter": "python",
   "pygments_lexer": "ipython3",
   "version": "3.10.4"
  }
 },
 "nbformat": 4,
 "nbformat_minor": 5
}
