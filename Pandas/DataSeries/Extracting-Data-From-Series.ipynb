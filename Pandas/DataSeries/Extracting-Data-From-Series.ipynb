{
 "cells": [
  {
   "cell_type": "code",
   "execution_count": 1,
   "id": "2d927961",
   "metadata": {},
   "outputs": [],
   "source": [
    "import pandas as pd\n",
    "import numpy as np\n",
    "import matplotlib.pyplot as plt\n",
    "import math as math\n",
    "\n",
    "pok = pd.read_csv(\"./course-files/pokemon.csv\",usecols=['Name']).squeeze('columns')"
   ]
  },
  {
   "cell_type": "code",
   "execution_count": 2,
   "id": "0a092be2",
   "metadata": {},
   "outputs": [
    {
     "data": {
      "text/plain": [
       "'Machoke'"
      ]
     },
     "execution_count": 2,
     "metadata": {},
     "output_type": "execute_result"
    }
   ],
   "source": [
    "pok[73]"
   ]
  },
  {
   "cell_type": "code",
   "execution_count": 3,
   "id": "24227bf3",
   "metadata": {},
   "outputs": [],
   "source": [
    "#pok[64,73]"
   ]
  },
  {
   "cell_type": "code",
   "execution_count": 4,
   "id": "c6829c0f",
   "metadata": {},
   "outputs": [
    {
     "data": {
      "text/plain": [
       "64    Arcanine\n",
       "73     Machoke\n",
       "Name: Name, dtype: object"
      ]
     },
     "execution_count": 4,
     "metadata": {},
     "output_type": "execute_result"
    }
   ],
   "source": [
    "pok[[64,73]]"
   ]
  },
  {
   "cell_type": "code",
   "execution_count": 5,
   "id": "87dfcc7f",
   "metadata": {},
   "outputs": [
    {
     "data": {
      "text/plain": [
       "2                 Venusaur\n",
       "3    VenusaurMega Venusaur\n",
       "4               Charmander\n",
       "5               Charmeleon\n",
       "6                Charizard\n",
       "Name: Name, dtype: object"
      ]
     },
     "execution_count": 5,
     "metadata": {},
     "output_type": "execute_result"
    }
   ],
   "source": [
    "pok[2:7]"
   ]
  },
  {
   "cell_type": "code",
   "execution_count": 6,
   "id": "c07be625",
   "metadata": {},
   "outputs": [
    {
     "data": {
      "text/plain": [
       "795                Diancie\n",
       "796    DiancieMega Diancie\n",
       "797    HoopaHoopa Confined\n",
       "798     HoopaHoopa Unbound\n",
       "799              Volcanion\n",
       "Name: Name, dtype: object"
      ]
     },
     "execution_count": 6,
     "metadata": {},
     "output_type": "execute_result"
    }
   ],
   "source": [
    "pok[795:]"
   ]
  },
  {
   "cell_type": "code",
   "execution_count": 7,
   "id": "5edc4f95",
   "metadata": {},
   "outputs": [
    {
     "data": {
      "text/plain": [
       "0                Bulbasaur\n",
       "1                  Ivysaur\n",
       "2                 Venusaur\n",
       "3    VenusaurMega Venusaur\n",
       "Name: Name, dtype: object"
      ]
     },
     "execution_count": 7,
     "metadata": {},
     "output_type": "execute_result"
    }
   ],
   "source": [
    "pok[:4]"
   ]
  },
  {
   "cell_type": "code",
   "execution_count": 8,
   "id": "a1c685b1",
   "metadata": {},
   "outputs": [
    {
     "data": {
      "text/plain": [
       "798    HoopaHoopa Unbound\n",
       "799             Volcanion\n",
       "Name: Name, dtype: object"
      ]
     },
     "execution_count": 8,
     "metadata": {},
     "output_type": "execute_result"
    }
   ],
   "source": [
    "pok[-2:]"
   ]
  },
  {
   "cell_type": "code",
   "execution_count": 9,
   "id": "3e5fabf2",
   "metadata": {},
   "outputs": [
    {
     "data": {
      "text/plain": [
       "a    Austria\n",
       "b    Belgium\n",
       "c     Canada\n",
       "d    Denmark\n",
       "e    England\n",
       "e    Estonia\n",
       "dtype: object"
      ]
     },
     "execution_count": 9,
     "metadata": {},
     "output_type": "execute_result"
    }
   ],
   "source": [
    "index = ['a','b','c','d','e','e']\n",
    "values = ['Austria','Belgium','Canada','Denmark','England','Estonia']\n",
    "s = pd.Series(values,index)\n",
    "s"
   ]
  },
  {
   "cell_type": "markdown",
   "id": "b71ff041",
   "metadata": {},
   "source": [
    "## operator []\n",
    "\n",
    "getting value by position"
   ]
  },
  {
   "cell_type": "code",
   "execution_count": 11,
   "id": "6a9736cb",
   "metadata": {},
   "outputs": [
    {
     "data": {
      "text/plain": [
       "'Belgium'"
      ]
     },
     "execution_count": 11,
     "metadata": {},
     "output_type": "execute_result"
    }
   ],
   "source": [
    "s[1]"
   ]
  },
  {
   "cell_type": "markdown",
   "id": "4838c281",
   "metadata": {},
   "source": [
    "getting value by index"
   ]
  },
  {
   "cell_type": "code",
   "execution_count": 12,
   "id": "03c7b46c",
   "metadata": {},
   "outputs": [
    {
     "data": {
      "text/plain": [
       "'Belgium'"
      ]
     },
     "execution_count": 12,
     "metadata": {},
     "output_type": "execute_result"
    }
   ],
   "source": [
    "s['b']"
   ]
  },
  {
   "cell_type": "markdown",
   "id": "ca35181b",
   "metadata": {},
   "source": [
    "getting multiple values"
   ]
  },
  {
   "cell_type": "code",
   "execution_count": 13,
   "id": "15ca991a",
   "metadata": {},
   "outputs": [
    {
     "data": {
      "text/plain": [
       "e    England\n",
       "e    Estonia\n",
       "dtype: object"
      ]
     },
     "execution_count": 13,
     "metadata": {},
     "output_type": "execute_result"
    }
   ],
   "source": [
    "s['e']"
   ]
  },
  {
   "cell_type": "markdown",
   "id": "3a5816d1",
   "metadata": {},
   "source": [
    "getting non existing value"
   ]
  },
  {
   "cell_type": "code",
   "execution_count": 16,
   "id": "2396ce2c",
   "metadata": {},
   "outputs": [],
   "source": [
    "# s['f'] error"
   ]
  },
  {
   "cell_type": "markdown",
   "id": "6ae65a8f",
   "metadata": {},
   "source": [
    "## method get()\n",
    "\n",
    "getting value by position"
   ]
  },
  {
   "cell_type": "code",
   "execution_count": 17,
   "id": "094fa0f4",
   "metadata": {},
   "outputs": [
    {
     "data": {
      "text/plain": [
       "'Belgium'"
      ]
     },
     "execution_count": 17,
     "metadata": {},
     "output_type": "execute_result"
    }
   ],
   "source": [
    "s.get(1)"
   ]
  },
  {
   "cell_type": "markdown",
   "id": "6aee1d4c",
   "metadata": {},
   "source": [
    "getting value by index"
   ]
  },
  {
   "cell_type": "code",
   "execution_count": 18,
   "id": "d3bf3d30",
   "metadata": {},
   "outputs": [
    {
     "data": {
      "text/plain": [
       "'Belgium'"
      ]
     },
     "execution_count": 18,
     "metadata": {},
     "output_type": "execute_result"
    }
   ],
   "source": [
    "s.get('b')"
   ]
  },
  {
   "cell_type": "markdown",
   "id": "a87e4fd4",
   "metadata": {},
   "source": [
    "getting multiple values"
   ]
  },
  {
   "cell_type": "code",
   "execution_count": 19,
   "id": "d969c4cc",
   "metadata": {},
   "outputs": [
    {
     "data": {
      "text/plain": [
       "e    England\n",
       "e    Estonia\n",
       "dtype: object"
      ]
     },
     "execution_count": 19,
     "metadata": {},
     "output_type": "execute_result"
    }
   ],
   "source": [
    "s.get('e')"
   ]
  },
  {
   "cell_type": "markdown",
   "id": "807bce0a",
   "metadata": {},
   "source": [
    "getting non existing value"
   ]
  },
  {
   "cell_type": "code",
   "execution_count": 20,
   "id": "e2adfbcc",
   "metadata": {},
   "outputs": [],
   "source": [
    "s.get('f')"
   ]
  },
  {
   "cell_type": "markdown",
   "id": "387f44d3",
   "metadata": {},
   "source": [
    "## at[]\n",
    "\n",
    "getting value by position"
   ]
  },
  {
   "cell_type": "code",
   "execution_count": 23,
   "id": "ab50b249",
   "metadata": {},
   "outputs": [],
   "source": [
    "#error s.at[1] "
   ]
  },
  {
   "cell_type": "markdown",
   "id": "c522632a",
   "metadata": {},
   "source": [
    "getting value by index"
   ]
  },
  {
   "cell_type": "code",
   "execution_count": 24,
   "id": "115395e1",
   "metadata": {},
   "outputs": [
    {
     "data": {
      "text/plain": [
       "'Belgium'"
      ]
     },
     "execution_count": 24,
     "metadata": {},
     "output_type": "execute_result"
    }
   ],
   "source": [
    "s.at['b']"
   ]
  },
  {
   "cell_type": "markdown",
   "id": "c3494616",
   "metadata": {},
   "source": [
    "getting multiple values"
   ]
  },
  {
   "cell_type": "code",
   "execution_count": 25,
   "id": "9a32100e",
   "metadata": {},
   "outputs": [
    {
     "data": {
      "text/plain": [
       "e    England\n",
       "e    Estonia\n",
       "dtype: object"
      ]
     },
     "execution_count": 25,
     "metadata": {},
     "output_type": "execute_result"
    }
   ],
   "source": [
    "s.at['e']"
   ]
  },
  {
   "cell_type": "markdown",
   "id": "9c285d61",
   "metadata": {},
   "source": [
    "getting non existing value"
   ]
  },
  {
   "cell_type": "code",
   "execution_count": 27,
   "id": "c34ffdd7",
   "metadata": {},
   "outputs": [],
   "source": [
    "#error s.at['f']"
   ]
  },
  {
   "cell_type": "markdown",
   "id": "eb3de40d",
   "metadata": {},
   "source": [
    "## iat[]\n",
    "\n",
    "getting value by position"
   ]
  },
  {
   "cell_type": "code",
   "execution_count": 28,
   "id": "041efca3",
   "metadata": {},
   "outputs": [
    {
     "data": {
      "text/plain": [
       "'Belgium'"
      ]
     },
     "execution_count": 28,
     "metadata": {},
     "output_type": "execute_result"
    }
   ],
   "source": [
    "s.iat[1]"
   ]
  },
  {
   "cell_type": "markdown",
   "id": "9dc63741",
   "metadata": {},
   "source": [
    "getting value by index"
   ]
  },
  {
   "cell_type": "code",
   "execution_count": 31,
   "id": "c8012b9e",
   "metadata": {},
   "outputs": [],
   "source": [
    "#error s.iat['b']"
   ]
  },
  {
   "cell_type": "markdown",
   "id": "8fad0284",
   "metadata": {},
   "source": [
    "getting multiple values"
   ]
  },
  {
   "cell_type": "code",
   "execution_count": 33,
   "id": "9ad09de3",
   "metadata": {},
   "outputs": [],
   "source": [
    "#error s.iat[[0,1]]"
   ]
  },
  {
   "cell_type": "markdown",
   "id": "9c9a7e1f",
   "metadata": {},
   "source": [
    "getting non existing value"
   ]
  },
  {
   "cell_type": "code",
   "execution_count": 35,
   "id": "c11e4800",
   "metadata": {},
   "outputs": [],
   "source": [
    "#error s[99]"
   ]
  },
  {
   "cell_type": "code",
   "execution_count": null,
   "id": "90583db6",
   "metadata": {},
   "outputs": [],
   "source": []
  }
 ],
 "metadata": {
  "kernelspec": {
   "display_name": "Python 3 (ipykernel)",
   "language": "python",
   "name": "python3"
  },
  "language_info": {
   "codemirror_mode": {
    "name": "ipython",
    "version": 3
   },
   "file_extension": ".py",
   "mimetype": "text/x-python",
   "name": "python",
   "nbconvert_exporter": "python",
   "pygments_lexer": "ipython3",
   "version": "3.10.4"
  }
 },
 "nbformat": 4,
 "nbformat_minor": 5
}
